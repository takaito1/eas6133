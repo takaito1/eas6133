{
 "cells": [
  {
   "cell_type": "markdown",
   "id": "e7c12fda-bca2-475b-99c9-08f594b94aca",
   "metadata": {},
   "source": [
    "# ODE solution technique\n",
    "## solutions for exponential growth includes: \n",
    "   - Analytic\n",
    "   - Euler forward\n",
    "   - RK-2\n",
    "   - RK-4\n",
    "   - scipy.integrate.odeint"
   ]
  },
  {
   "cell_type": "code",
   "execution_count": null,
   "id": "3eb2c7a5-d9c4-42d9-88b6-4acf49ebdeb2",
   "metadata": {},
   "outputs": [],
   "source": [
    "import numpy as np\n",
    "import matplotlib.pyplot as plt\n",
    "from scipy.integrate import odeint"
   ]
  },
  {
   "cell_type": "markdown",
   "id": "604e3482-6811-4930-aefd-6ce0f80f27b6",
   "metadata": {},
   "source": [
    "## define parameters"
   ]
  },
  {
   "cell_type": "code",
   "execution_count": null,
   "id": "9b083ae1-a6f2-4e99-9351-305328b784b9",
   "metadata": {},
   "outputs": [],
   "source": [
    "tau = 2. # doubling time\n",
    "a = np.log(2)/tau # exponential growth rate\n",
    "h = 2 # time step\n",
    "t = np.arange(0,10+h,h) # time = 10-day range\n",
    "xo = 1"
   ]
  },
  {
   "cell_type": "markdown",
   "id": "a61f8927-7988-44bf-8b22-d25ea5c85237",
   "metadata": {},
   "source": [
    "# analytic solution"
   ]
  },
  {
   "cell_type": "code",
   "execution_count": null,
   "id": "48b731dd-5c8f-420e-af63-3c78bf020dce",
   "metadata": {},
   "outputs": [],
   "source": [
    "x = xo*np.exp(a*t)\n",
    "plt.plot(t,x,'.-',label='analytic solution')"
   ]
  },
  {
   "cell_type": "markdown",
   "id": "2ecf9574-4e4a-4f7a-844a-bfbfeb2ec744",
   "metadata": {},
   "source": [
    "# Numerical solution - Euler forward"
   ]
  },
  {
   "cell_type": "code",
   "execution_count": null,
   "id": "8da7866b-5afc-4ae5-b6f4-13c60d2cbe24",
   "metadata": {},
   "outputs": [],
   "source": [
    "# set up a helper function\n",
    "def tendency(time,xin):\n",
    "    tau=2.\n",
    "    a = np.log(2.)/tau\n",
    "    dxdt = a*xin\n",
    "    return dxdt\n",
    "def timestep(x,dxdt,step):\n",
    "    xnew = x + dxdt*step\n",
    "    return xnew"
   ]
  },
  {
   "cell_type": "code",
   "execution_count": null,
   "id": "0c4fe9a9-df78-4534-bcc2-0d08bb41dc5f",
   "metadata": {},
   "outputs": [],
   "source": [
    "N = np.size(t)\n",
    "x_ef=np.empty(N)\n",
    "x_ef[0]=xo # initialize\n",
    "for n in range(N-1):\n",
    "    dxdt=tendency(t[n],x_ef[n])\n",
    "    x_ef[n+1]=timestep(x_ef[n],dxdt,h)"
   ]
  },
  {
   "cell_type": "code",
   "execution_count": null,
   "id": "8e168911-3477-4bfe-8e99-f3972b64ffd8",
   "metadata": {},
   "outputs": [],
   "source": [
    "# compare results\n",
    "x = xo*np.exp(a*t)\n",
    "plt.plot(t,x,'.-',label='analytic solution')\n",
    "plt.plot(t,x_ef,'.-',label='Euler forward')\n",
    "plt.legend()\n",
    "plt.show()"
   ]
  },
  {
   "cell_type": "markdown",
   "id": "672ea1e0-7d54-4ea2-bec5-487e7373d164",
   "metadata": {},
   "source": [
    "## Numerical solution - RK2"
   ]
  },
  {
   "cell_type": "code",
   "execution_count": null,
   "id": "3d1c8fe4-6c88-4a92-8dee-9171d9e4b7b1",
   "metadata": {},
   "outputs": [],
   "source": [
    "x_rk2=np.empty(N)\n",
    "x_rk2[0]=xo # initialize\n",
    "for n in range(N-1):\n",
    "    dxdt1=tendency(t[n],x_rk2[n])\n",
    "    x1=timestep(x_rk2[n],dxdt1,h)\n",
    "    dxdt2=tendency(t[n],x1)\n",
    "    x_rk2[n+1]=x_rk2[n]+h/2*(dxdt1+dxdt2)"
   ]
  },
  {
   "cell_type": "code",
   "execution_count": null,
   "id": "f79978ff-2d27-416a-9815-8544cabe4e1e",
   "metadata": {},
   "outputs": [],
   "source": [
    "# compare results\n",
    "x = xo*np.exp(a*t)\n",
    "plt.plot(t,x,'.-',label='analytic solution')\n",
    "plt.plot(t,x_ef,'.-',label='Euler forward')\n",
    "plt.plot(t,x_rk2,'.-',label='RK-2 method')\n",
    "plt.legend()\n",
    "plt.show()"
   ]
  },
  {
   "cell_type": "markdown",
   "id": "605b032a-fb00-40a7-a307-b81ca27bd508",
   "metadata": {},
   "source": [
    "## Numerical solution - RK4"
   ]
  },
  {
   "cell_type": "code",
   "execution_count": null,
   "id": "0d0922a1-8704-443d-8d78-f55c29256efc",
   "metadata": {},
   "outputs": [],
   "source": [
    "x_rk4=np.empty(N)\n",
    "x_rk4[0]=xo # initialize\n",
    "for n in range(N-1):\n",
    "    dxdt1=tendency(t[n],x_rk4[n])\n",
    "    x1=timestep(x_rk4[n],dxdt1,h/2) # half step 1st try\n",
    "    dxdt2=tendency(t[n]+h/2,x1)\n",
    "    x2=timestep(x_rk4[n],dxdt2,h/2) # half step 2nd try\n",
    "    dxdt3=tendency(t[n]+h/2,x2)\n",
    "    x3=timestep(x_rk4[n],dxdt3,h) # full step 3rd try\n",
    "    dxdt4=tendency(t[n]+h,x3)\n",
    "    x_rk4[n+1]=x_rk4[n]+h/6*(dxdt1+2*dxdt2+2*dxdt3+dxdt4)"
   ]
  },
  {
   "cell_type": "code",
   "execution_count": null,
   "id": "2cf00987-8e68-46a2-85ce-c25373975ee4",
   "metadata": {},
   "outputs": [],
   "source": [
    "# compare results\n",
    "x = xo*np.exp(a*t)\n",
    "plt.plot(t,x,'.-',label='analytic solution')\n",
    "plt.plot(t,x_ef,'.-',label='Euler forward')\n",
    "plt.plot(t,x_rk2,'.-',label='RK-2 method')\n",
    "plt.plot(t,x_rk4,'.-',label='RK-4 method')\n",
    "plt.legend()\n",
    "plt.show()"
   ]
  },
  {
   "cell_type": "markdown",
   "id": "5359fc81-ef59-478a-b330-2ee464d7674c",
   "metadata": {},
   "source": [
    "## Use a library: scipy.integrate.odeint"
   ]
  },
  {
   "cell_type": "code",
   "execution_count": null,
   "id": "87996f14-a1d8-4c91-b412-37bebeaa55ff",
   "metadata": {},
   "outputs": [],
   "source": [
    "x_ode=np.empty(N)\n",
    "sol=odeint(tendency,[1],t,tfirst=True)\n",
    "x_ode = sol"
   ]
  },
  {
   "cell_type": "code",
   "execution_count": null,
   "id": "7386261b-f73f-494a-83de-80e12ed4cfcb",
   "metadata": {},
   "outputs": [],
   "source": [
    "# compare results\n",
    "x = xo*np.exp(a*t)\n",
    "plt.plot(t,x,'.-',label='analytic solution')\n",
    "plt.plot(t,x_ef,'.-',label='Euler forward')\n",
    "plt.plot(t,x_rk2,'.-',label='RK-2 method')\n",
    "plt.plot(t,x_rk4,'.-',label='RK-4 method')\n",
    "plt.plot(t,x_ode,'.-',label='odeint')\n",
    "plt.legend()\n",
    "plt.show()"
   ]
  },
  {
   "cell_type": "code",
   "execution_count": null,
   "id": "1a01a143-04c9-4d40-8f13-3d24b21b3f37",
   "metadata": {},
   "outputs": [],
   "source": []
  }
 ],
 "metadata": {
  "kernelspec": {
   "display_name": "eas6133",
   "language": "python",
   "name": "eas6133"
  },
  "language_info": {
   "codemirror_mode": {
    "name": "ipython",
    "version": 3
   },
   "file_extension": ".py",
   "mimetype": "text/x-python",
   "name": "python",
   "nbconvert_exporter": "python",
   "pygments_lexer": "ipython3",
   "version": "3.9.15"
  }
 },
 "nbformat": 4,
 "nbformat_minor": 5
}
