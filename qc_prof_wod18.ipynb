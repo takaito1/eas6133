{
 "cells": [
  {
   "cell_type": "markdown",
   "id": "2ce1432f-d595-4a24-81fc-7b366da3dd31",
   "metadata": {},
   "source": [
    "# Reading WOD2018 netCDF\n",
    "    - read in the data\n",
    "    - display location of data\n",
    "    - save data in numpy array"
   ]
  },
  {
   "cell_type": "code",
   "execution_count": null,
   "id": "3a350b75-4e7d-41d1-8d26-1c5a7cbf0906",
   "metadata": {},
   "outputs": [],
   "source": [
    "import numpy as np\n",
    "import matplotlib.pyplot as plt\n",
    "import xarray as xr\n",
    "from tqdm import tqdm"
   ]
  },
  {
   "cell_type": "code",
   "execution_count": null,
   "id": "3a7fd636-788c-4c44-9b9c-c17d0fceb737",
   "metadata": {},
   "outputs": [],
   "source": [
    "# open downloaded netCDF files\n",
    "fn=['ocldb1679866445.14641_OSD.nc',\\\n",
    "    'ocldb1679866445.14641_OSD2.nc',\\\n",
    "    'ocldb1679866445.14641_OSD3.nc',\\\n",
    "    'ocldb1679866445.14641_OSD4.nc',\\\n",
    "    'ocldb1679866445.14641_OSD5.nc',\\\n",
    "    'ocldb1679866445.14641_OSD6.nc']"
   ]
  },
  {
   "cell_type": "code",
   "execution_count": null,
   "id": "ffa424ed-a7b3-4d7d-bb5b-ae10ca4ff909",
   "metadata": {},
   "outputs": [],
   "source": [
    "# data variables\n",
    "vname=['Temperature','Salinity','Nitrate','Phosphate','Oxygen'] # desired data variable\n",
    "Nvars=np.size(vname)\n",
    "Ndepth=137"
   ]
  },
  {
   "cell_type": "code",
   "execution_count": null,
   "id": "0109bb9e-faf4-4e6b-9dcb-188c7f8d1792",
   "metadata": {},
   "outputs": [],
   "source": [
    "# first open each file and count the number of profiles\n",
    "Nf=len(fn)\n",
    "Nprof=np.zeros(Nf)\n",
    "Nobs=np.zeros(Nf)\n",
    "N=np.zeros(Nf)\n",
    "#\n",
    "for n in range(len(fn)):\n",
    "    ds=xr.open_dataset('WOD18/'+fn[n])\n",
    "    # get the dimensions\n",
    "    Nprof[n] = np.size(ds.time)\n",
    "    Nobs[n]  = np.size(ds.z)\n",
    "# display the numbers\n",
    "print('total # of profiles = ',str(np.sum(Nprof)))\n",
    "print('total # of samples = ',str(np.sum(Nobs)))"
   ]
  },
  {
   "cell_type": "code",
   "execution_count": null,
   "id": "83ee06f8-7bfe-48a2-b979-68eeefc66530",
   "metadata": {},
   "outputs": [],
   "source": [
    "# get the lon lat and time of each profiles\n",
    "#\n",
    "lon=np.zeros(int(np.sum(Nprof)))\n",
    "lat=np.zeros(int(np.sum(Nprof)))\n",
    "year=np.zeros(int(np.sum(Nprof)),dtype=int)\n",
    "month=np.zeros(int(np.sum(Nprof)),dtype=int)\n",
    "NZcast=np.zeros(int(np.sum(Nprof)))\n",
    "Zbot=np.zeros(int(np.sum(Nprof)))\n",
    "QC=np.zeros((Nvars,int(np.sum(Nprof))),dtype=int)\n",
    "cnt0=0\n",
    "for n in range(len(fn)):\n",
    "    cnt1=cnt0+int(Nprof[n])\n",
    "    ds=xr.open_dataset('WOD18/'+fn[n])\n",
    "    # get the dimensions\n",
    "    lon[cnt0:cnt1] = ds.lon.to_numpy()\n",
    "    lat[cnt0:cnt1] = ds.lat.to_numpy()\n",
    "    year[cnt0:cnt1] = ds.time.dt.year.to_numpy()\n",
    "    month[cnt0:cnt1] = ds.time.dt.month.to_numpy()\n",
    "    NZcast[cnt0:cnt1] = ds.z_row_size.to_numpy()\n",
    "    Zbot[cnt0:cnt1] = ds.Bottom_Depth.to_numpy()\n",
    "    for m in range(Nvars):\n",
    "        QC[m,cnt0:cnt1]=ds[vname[m]+'_WODprofileflag'].to_numpy()\n",
    "    cnt0=cnt1"
   ]
  },
  {
   "cell_type": "code",
   "execution_count": null,
   "id": "5b5a53b3-d207-4f37-baf2-2a61540859c3",
   "metadata": {},
   "outputs": [],
   "source": [
    "# display the distribution of data in space\n",
    "plt.plot(lon,lat,'.',markersize=0.2)\n",
    "plt.xlim(-180,180)\n",
    "plt.ylim(-90,90)\n",
    "plt.xlabel('longitude')\n",
    "plt.ylabel('latitude')"
   ]
  },
  {
   "cell_type": "code",
   "execution_count": null,
   "id": "4dcc372a-9048-43c7-959d-b2296d0d3eba",
   "metadata": {},
   "outputs": [],
   "source": [
    "# display the distribution of data in time\n",
    "yr0=np.min(year)\n",
    "yr1=np.max(year)\n",
    "b=np.arange(yr0,yr1+1,1)\n",
    "profcount = plt.hist(year,b)\n",
    "plt.xlim(1950,2020)\n",
    "plt.xlabel('year')\n",
    "plt.ylabel('number of profiles')"
   ]
  },
  {
   "cell_type": "markdown",
   "id": "ccb485f4-b93b-4ba7-97c6-aa423f27bb83",
   "metadata": {},
   "source": [
    "### read in data as (profile) x (depth) while appling Quality Control "
   ]
  },
  {
   "cell_type": "code",
   "execution_count": null,
   "id": "57db2bca-0af0-414d-86af-cd6f11eac7a6",
   "metadata": {},
   "outputs": [],
   "source": [
    "# prepare data array and coordinates\n",
    "z=np.nan*np.zeros((int(np.sum(Nprof)),137))\n",
    "cnt=0\n",
    "# read in depth\n",
    "for m in range(len(fn)):\n",
    "    ind0=0\n",
    "    ds=xr.open_dataset('WOD18/'+fn[m])\n",
    "    for n in range(int(Nprof[m])):\n",
    "        M=int(NZcast[cnt])\n",
    "        ind1=int(ind0+M)\n",
    "        z[cnt,0:M]=ds['z'][ind0:ind1].to_numpy()\n",
    "        cnt=cnt+1\n",
    "        ind0=ind1"
   ]
  },
  {
   "cell_type": "code",
   "execution_count": null,
   "id": "60a87c2c-e2a6-49a3-8297-15d2b15a212a",
   "metadata": {},
   "outputs": [],
   "source": [
    "# standard depth\n",
    "zstd=np.nanmean(z,axis=0)\n",
    "Ndepth=np.size(zstd)"
   ]
  },
  {
   "cell_type": "code",
   "execution_count": null,
   "id": "fb8c5598-a737-4b31-86dc-a02bc77b06ca",
   "metadata": {},
   "outputs": [],
   "source": [
    "#---------------------\n",
    "# QC profile fucntion\n",
    "#---------------------\n",
    "def qc_profile(vindex):\n",
    "    # set up empty array\n",
    "    data=np.nan*np.zeros((int(np.sum(Nprof)),Ndepth),dtype=float)\n",
    "    # set up counters\n",
    "    cnt =0 # counter for profiles\n",
    "    for m in range(len(fn)):\n",
    "        ind0=0 # counter for data read in point\n",
    "        ds=xr.open_dataset('WOD18/'+fn[m])\n",
    "        #print(fn[m])\n",
    "        for n in range(int(Nprof[m])):\n",
    "            M=int(NZcast[cnt])\n",
    "            ind1=int(ind0+M)\n",
    "            # If the QC flag shows acceptable value (0), proceed to store data\n",
    "            QCtest = (QC[vindex,cnt]==0)\n",
    "            if QCtest == True:\n",
    "                data[cnt,0:M]=ds[vname[vindex]][ind0:ind1].to_numpy()\n",
    "            # update the counters\n",
    "            cnt=cnt+1 # counting the profile number\n",
    "            ind0=ind1 # reset the read in point\n",
    "    return data"
   ]
  },
  {
   "cell_type": "code",
   "execution_count": null,
   "id": "ff70cb62-67c7-4cb6-ad37-afd28c200a9a",
   "metadata": {},
   "outputs": [],
   "source": [
    "# helper function to save netCDF file yearly\n",
    "def generate_netcdf(dirname,vname,data,lon,lat,year,month,zstd,Nprof):\n",
    "    profile=np.arange(0,int(np.sum(Nprof)),1)\n",
    "    da=xr.DataArray(data=data,name=vname,dims=['profile','depth'],\\\n",
    "               coords={'profile':profile,'depth':zstd})\n",
    "    ds=da.to_dataset()\n",
    "    ds['year']=xr.DataArray(data=year,dims=['profile'],\\\n",
    "               coords={'profile':profile})\n",
    "    ds['month']=xr.DataArray(data=month,dims=['profile'],\\\n",
    "               coords={'profile':profile})\n",
    "    ds['lat']=xr.DataArray(data=lat,dims=['profile'],\\\n",
    "               coords={'profile':profile})\n",
    "    ds['lon']=xr.DataArray(data=lon,dims=['profile'],\\\n",
    "               coords={'profile':profile})\n",
    "    ds.to_netcdf(dirname+'/'+vname+'_WOD18_OSD_qc0_profiles.nc')"
   ]
  },
  {
   "cell_type": "code",
   "execution_count": null,
   "id": "66a09853-a3ba-456a-8fae-5d29d67061c1",
   "metadata": {},
   "outputs": [],
   "source": [
    "! mkdir -p WOD_QC_profiles\n",
    "dirname='WOD_QC_profiles'\n",
    "#\n",
    "for m in range(np.size(vname)):\n",
    "    data=qc_profile(m)\n",
    "    generate_netcdf(dirname,vname[m],data,lon,lat,year,month,zstd,Nprof)"
   ]
  },
  {
   "cell_type": "code",
   "execution_count": null,
   "id": "c49360a9-bf6f-4cf6-95b8-90e526b39c81",
   "metadata": {},
   "outputs": [],
   "source": []
  }
 ],
 "metadata": {
  "kernelspec": {
   "display_name": "eas6133",
   "language": "python",
   "name": "eas6133"
  },
  "language_info": {
   "codemirror_mode": {
    "name": "ipython",
    "version": 3
   },
   "file_extension": ".py",
   "mimetype": "text/x-python",
   "name": "python",
   "nbconvert_exporter": "python",
   "pygments_lexer": "ipython3",
   "version": "3.9.16"
  }
 },
 "nbformat": 4,
 "nbformat_minor": 5
}
