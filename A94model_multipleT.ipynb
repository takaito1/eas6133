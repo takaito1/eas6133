{
 "cells": [
  {
   "cell_type": "markdown",
   "id": "073a011f-0fe0-4083-b88c-96a43741affc",
   "metadata": {},
   "source": [
    "# Armstrong 1994 model\n",
    "\n",
    "### Multiple P-Z model with variable N stock from 0 to 10\n",
    "\n",
    "    - dPi/dt = Vi*N/(N+K)*Pi -g*Pi*Zi/Kp- lp*Pi\n",
    "    - dZi/dt = a*g*Pi*Zi/Kp - lz*Zi\n",
    "    - N = T - sum(Pi) - sum(Zi)"
   ]
  },
  {
   "cell_type": "code",
   "execution_count": 1,
   "id": "0ac5a2c5-6143-40ff-9591-85e92e456cf3",
   "metadata": {},
   "outputs": [],
   "source": [
    "import numpy as np\n",
    "import matplotlib.pyplot as plt\n",
    "from scipy.integrate import solve_ivp"
   ]
  },
  {
   "cell_type": "code",
   "execution_count": 2,
   "id": "af320b0c-1b59-4a90-90f3-6d65e3b606cf",
   "metadata": {},
   "outputs": [],
   "source": [
    "# coefficients\n",
    "h = 1 # timestep size\n",
    "T = 10 # total nutrient level\n",
    "Ns= 4 # number of size class\n",
    "inipz = .001 # initial condition for phyto and zoo\n",
    "# set parameters\n",
    "Vmax = 1.4 # per day\n",
    "K = 0.1 # mmol/m3\n",
    "Kp= 2.8 # mmol/m3\n",
    "a = 0.4\n",
    "g = 1.4 # per day\n",
    "lp = 0.05 # per day\n",
    "lz = 0.12 # per day\n",
    "beta = 0.4 # allometric scaling coefficient"
   ]
  },
  {
   "cell_type": "code",
   "execution_count": 3,
   "id": "4aa6f393-268c-4185-8d5b-3802ded84b51",
   "metadata": {},
   "outputs": [],
   "source": [
    "def tendency(t,x,Vmax,K,Kp,a,g,lp,lz,Ns,T,beta):\n",
    "    # initialize arrays\n",
    "    Ns = int(Ns)\n",
    "    phy=np.zeros(Ns)\n",
    "    zoo=np.zeros(Ns)\n",
    "    out=np.zeros(2*Ns)\n",
    "    dphydt=np.zeros(Ns)\n",
    "    dzoodt=np.zeros(Ns)\n",
    "    #\n",
    "    for n in range(Ns):\n",
    "        phy[n]=x[n]\n",
    "        zoo[n]=x[Ns+n]\n",
    "    nut = max(0,T - np.sum(phy) - np.sum(zoo))\n",
    "    for n in range(Ns):\n",
    "        L = 4**n\n",
    "        V = Vmax*L**-beta\n",
    "        dphydt[n] = V*nut/(nut+K)*phy[n] - zoo[n]*g*phy[n]/Kp - lp*phy[n]\n",
    "        dzoodt[n] = a*zoo[n]*g*phy[n]/Kp - lz*zoo[n]\n",
    "        out[n]=dphydt[n]\n",
    "        out[n+Ns]=dzoodt[n]\n",
    "    return out"
   ]
  },
  {
   "cell_type": "code",
   "execution_count": 4,
   "id": "5371e572-44c1-4211-8750-5b2b4469d3a0",
   "metadata": {},
   "outputs": [],
   "source": [
    "# define model_run function\n",
    "def model_run(trange,xinit,param,dt):\n",
    "    # expand input\n",
    "    Vmax = param[0]\n",
    "    K = param[1]\n",
    "    Kp= param[2]\n",
    "    a = param[3]\n",
    "    g = param[4]\n",
    "    lp = param[5]\n",
    "    lz = param[6]\n",
    "    Ns = param[7]\n",
    "    T = param[8]\n",
    "    beta = param[9]\n",
    "    sol = solve_ivp(tendency,trange,xinit,args=(Vmax,K,Kp,a,g,lp,lz,Ns,T,beta),method='RK45',max_step=dt)\n",
    "    return sol"
   ]
  },
  {
   "cell_type": "code",
   "execution_count": 5,
   "id": "13c93dfa-a443-4928-b4f6-a140aaf37649",
   "metadata": {},
   "outputs": [],
   "source": [
    "# running the model multiple times with different values of T\n",
    "T_ref = np.arange(0,10,.2) # 0 to 10 for every 0.2\n",
    "Nexp = np.size(T_ref) # number of integrations\n",
    "# prepare arrays to store results\n",
    "P=np.zeros((Ns,Nexp))\n",
    "Z=np.zeros((Ns,Nexp))\n",
    "N=np.zeros(Nexp,)\n",
    "#\n",
    "# start the main loop over different T values\n",
    "Nave = 200\n",
    "#\n",
    "for m in range(Nexp):\n",
    "    # set T value\n",
    "    T = T_ref[m]\n",
    "    # set time range\n",
    "    trange = [0,360*5] # running for 5 years\n",
    "    # set parameters\n",
    "    param=np.array([Vmax,K,Kp,a,g,lp,lz,Ns,T,beta])\n",
    "    # set initial conditions\n",
    "    xinit = inipz*np.ones(2*Ns,)\n",
    "    # time step size\n",
    "    h = 1\n",
    "    out = model_run(trange,xinit,param,h)\n",
    "    # record the result (steady solution)\n",
    "    vec_out = out.y\n",
    "    Nt=np.size(out.t)\n",
    "    # this part is just extracting the steady state for P, Z and N\n",
    "    # and steady state is approximated as averages of last (Nave) time steps\n",
    "    for n in range(Ns):\n",
    "        P[n,m] = np.mean(vec_out[n,-Nave:])\n",
    "        Z[n,m] = np.mean(vec_out[Ns+n,-Nave:])\n",
    "    N[m] = T - np.sum(P[:,m]) - np.sum(Z[:,m])"
   ]
  },
  {
   "cell_type": "code",
   "execution_count": 6,
   "id": "e953568c-4352-4b61-8783-0e04070f6b3a",
   "metadata": {},
   "outputs": [
    {
     "data": {
      "text/plain": [
       "(0.0, 10.5)"
      ]
     },
     "execution_count": 6,
     "metadata": {},
     "output_type": "execute_result"
    },
    {
     "data": {
      "image/png": "[encoded data removed]",
      "text/plain": [
       "<Figure size 432x288 with 1 Axes>"
      ]
     },
     "metadata": {
      "needs_background": "light"
     },
     "output_type": "display_data"
    }
   ],
   "source": [
    "# plot the output\n",
    "TNrange = T_ref\n",
    "Z_TN = Z\n",
    "P_TN = P\n",
    "#\n",
    "plt.fill_between(TNrange,TNrange,color='b',label='Dissolved N')\n",
    "plt.fill_between(TNrange,np.sum(Z_TN[:,:],axis=0)+np.sum(P_TN[:,:],axis=0),color='r',label='Zoo')\n",
    "plt.fill_between(TNrange,np.sum(P_TN[:,:],axis=0),color='g',label='Phyto')\n",
    "\n",
    "for n in range(Ns):\n",
    "    plt.plot(TNrange,np.sum(P_TN[:n,:],axis=0),'k--')\n",
    "    plt.plot(TNrange,np.sum(Z_TN[:n,:],axis=0)+np.sum(P_TN[:,:],axis=0),'k--')\n",
    "    Pstring='P'+str(n)\n",
    "    Zstring ='Z'+str(n)\n",
    "    plt.text(10,np.sum(P_TN[:n,-1:],axis=0),Pstring,fontsize='small')\n",
    "    plt.text(10,np.sum(Z_TN[:n,-1:],axis=0)+np.sum(P_TN[:,-1:],axis=0),Zstring,fontsize='small')\n",
    "plt.legend(bbox_to_anchor=(0.4,1))\n",
    "plt.xlabel(r'T, mmol N m$^{3}$')\n",
    "plt.ylabel(r'P+Z+N, mmol N m$^{-3}$')\n",
    "plt.xlim([0,10.5])"
   ]
  },
  {
   "cell_type": "code",
   "execution_count": null,
   "id": "f50b64f9-ae14-471c-b1d3-eda2f49056dd",
   "metadata": {},
   "outputs": [],
   "source": []
  }
 ],
 "metadata": {
  "kernelspec": {
   "display_name": "eas",
   "language": "python",
   "name": "eas"
  },
  "language_info": {
   "codemirror_mode": {
    "name": "ipython",
    "version": 3
   },
   "file_extension": ".py",
   "mimetype": "text/x-python",
   "name": "python",
   "nbconvert_exporter": "python",
   "pygments_lexer": "ipython3",
   "version": "3.9.7"
  }
 },
 "nbformat": 4,
 "nbformat_minor": 5
}
