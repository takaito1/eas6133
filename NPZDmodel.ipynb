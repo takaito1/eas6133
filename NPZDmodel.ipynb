{
 "cells": [
  {
   "cell_type": "markdown",
   "id": "073a011f-0fe0-4083-b88c-96a43741affc",
   "metadata": {},
   "source": [
    "# NPZD model with entrainment\n",
    "\n",
    "### NPZ (Nutrient-Phytoplankton-Zooplankton-Detritus) model, modified from Sarmiento and Gruber (2006)\n",
    "\n",
    "    - dN/dt = -Vmax*N/(N+K)*P - entr*(N-Nth) + ld*D\n",
    "    - dP/dt = Vmax*N/(N+K)*P -g*P*Z/Kp- lp*P\n",
    "    - dZ/dt = a*g*P*Z/Kp - lz*Z\n",
    "    - dD/dt = lp*P + Z*( (1-a)*g*P/Kp+lz ) - ld*D - Wsink/hml*D"
   ]
  },
  {
   "cell_type": "code",
   "execution_count": null,
   "id": "0ac5a2c5-6143-40ff-9591-85e92e456cf3",
   "metadata": {},
   "outputs": [],
   "source": []
  }
 ],
 "metadata": {
  "kernelspec": {
   "display_name": "ecosystem",
   "language": "python",
   "name": "ecosystem"
  },
  "language_info": {
   "codemirror_mode": {
    "name": "ipython",
    "version": 3
   },
   "file_extension": ".py",
   "mimetype": "text/x-python",
   "name": "python",
   "nbconvert_exporter": "python",
   "pygments_lexer": "ipython3",
   "version": "3.9.15"
  }
 },
 "nbformat": 4,
 "nbformat_minor": 5
}
